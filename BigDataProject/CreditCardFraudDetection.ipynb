{
  "nbformat": 4,
  "nbformat_minor": 0,
  "metadata": {
    "colab": {
      "name": "CreditCardFraudDetection.ipynb",
      "provenance": [],
      "collapsed_sections": []
    },
    "kernelspec": {
      "name": "python3",
      "display_name": "Python 3"
    },
    "language_info": {
      "name": "python"
    }
  },
  "cells": [
    {
      "cell_type": "markdown",
      "source": [
        "# Installing and Importing required libraries"
      ],
      "metadata": {
        "id": "ToNWRhTAdRJd"
      }
    },
    {
      "cell_type": "code",
      "source": [
        "!pip install pyspark"
      ],
      "metadata": {
        "colab": {
          "base_uri": "https://localhost:8080/"
        },
        "id": "nObC_9m8dVLZ",
        "outputId": "9a3d5c7b-add2-4d5a-9353-4e7977137534"
      },
      "execution_count": null,
      "outputs": [
        {
          "output_type": "stream",
          "name": "stdout",
          "text": [
            "Collecting pyspark\n",
            "  Downloading pyspark-3.2.1.tar.gz (281.4 MB)\n",
            "\u001b[K     |████████████████████████████████| 281.4 MB 31 kB/s \n",
            "\u001b[?25hCollecting py4j==0.10.9.3\n",
            "  Downloading py4j-0.10.9.3-py2.py3-none-any.whl (198 kB)\n",
            "\u001b[K     |████████████████████████████████| 198 kB 55.0 MB/s \n",
            "\u001b[?25hBuilding wheels for collected packages: pyspark\n",
            "  Building wheel for pyspark (setup.py) ... \u001b[?25l\u001b[?25hdone\n",
            "  Created wheel for pyspark: filename=pyspark-3.2.1-py2.py3-none-any.whl size=281853642 sha256=fe7e848a0461effeba1bf0c9ce3209bb19dea61ac57d819358335d16fb6e6753\n",
            "  Stored in directory: /root/.cache/pip/wheels/9f/f5/07/7cd8017084dce4e93e84e92efd1e1d5334db05f2e83bcef74f\n",
            "Successfully built pyspark\n",
            "Installing collected packages: py4j, pyspark\n",
            "Successfully installed py4j-0.10.9.3 pyspark-3.2.1\n"
          ]
        }
      ]
    },
    {
      "cell_type": "code",
      "source": [
        "import pandas as pd\n",
        "import numpy as np\n",
        "\n",
        "import matplotlib.pyplot as plt \n",
        "import seaborn as sns\n",
        "\n",
        "import pyspark\n",
        "from pyspark import SparkContext,SparkConf\n",
        "from pyspark.sql import SparkSession"
      ],
      "metadata": {
        "id": "6oUOhAc4dYM0"
      },
      "execution_count": null,
      "outputs": []
    },
    {
      "cell_type": "code",
      "source": [
        "sc = SparkContext.getOrCreate(SparkConf().setMaster(\"local[*]\"))\n",
        "spark_sql = SparkSession.builder.getOrCreate()"
      ],
      "metadata": {
        "id": "wq94uU7RdnEr"
      },
      "execution_count": null,
      "outputs": []
    },
    {
      "cell_type": "markdown",
      "source": [
        "# Data Extraction and Data Insights"
      ],
      "metadata": {
        "id": "i9gEkzUieUOw"
      }
    },
    {
      "cell_type": "code",
      "source": [
        "df = spark_sql.read.option('inferschema',\"true\").csv('/content/drive/MyDrive/my projects/credit card fraud detection/creditcard.csv',header=True)"
      ],
      "metadata": {
        "id": "HyGSzPZkeI6o"
      },
      "execution_count": null,
      "outputs": []
    },
    {
      "cell_type": "code",
      "source": [
        "df.printSchema()"
      ],
      "metadata": {
        "colab": {
          "base_uri": "https://localhost:8080/"
        },
        "id": "KirPxMgKecPC",
        "outputId": "51866777-e037-47cd-c937-be4d174e7859"
      },
      "execution_count": null,
      "outputs": [
        {
          "output_type": "stream",
          "name": "stdout",
          "text": [
            "root\n",
            " |-- Time: double (nullable = true)\n",
            " |-- V1: double (nullable = true)\n",
            " |-- V2: double (nullable = true)\n",
            " |-- V3: double (nullable = true)\n",
            " |-- V4: double (nullable = true)\n",
            " |-- V5: double (nullable = true)\n",
            " |-- V6: double (nullable = true)\n",
            " |-- V7: double (nullable = true)\n",
            " |-- V8: double (nullable = true)\n",
            " |-- V9: double (nullable = true)\n",
            " |-- V10: double (nullable = true)\n",
            " |-- V11: double (nullable = true)\n",
            " |-- V12: double (nullable = true)\n",
            " |-- V13: double (nullable = true)\n",
            " |-- V14: double (nullable = true)\n",
            " |-- V15: double (nullable = true)\n",
            " |-- V16: double (nullable = true)\n",
            " |-- V17: double (nullable = true)\n",
            " |-- V18: double (nullable = true)\n",
            " |-- V19: double (nullable = true)\n",
            " |-- V20: double (nullable = true)\n",
            " |-- V21: double (nullable = true)\n",
            " |-- V22: double (nullable = true)\n",
            " |-- V23: double (nullable = true)\n",
            " |-- V24: double (nullable = true)\n",
            " |-- V25: double (nullable = true)\n",
            " |-- V26: double (nullable = true)\n",
            " |-- V27: double (nullable = true)\n",
            " |-- V28: double (nullable = true)\n",
            " |-- Amount: double (nullable = true)\n",
            " |-- Class: integer (nullable = true)\n",
            "\n"
          ]
        }
      ]
    },
    {
      "cell_type": "code",
      "source": [
        "df.show(5)"
      ],
      "metadata": {
        "colab": {
          "base_uri": "https://localhost:8080/"
        },
        "id": "t4G3W8hMevI5",
        "outputId": "3d19878f-b298-405c-9405-8ba6c042bd10"
      },
      "execution_count": null,
      "outputs": [
        {
          "output_type": "stream",
          "name": "stdout",
          "text": [
            "+----+------------------+-------------------+----------------+------------------+-------------------+-------------------+-------------------+------------------+------------------+-------------------+------------------+------------------+------------------+------------------+------------------+------------------+------------------+-------------------+------------------+-------------------+--------------------+-------------------+------------------+------------------+------------------+------------------+--------------------+-------------------+------+-----+\n",
            "|Time|                V1|                 V2|              V3|                V4|                 V5|                 V6|                 V7|                V8|                V9|                V10|               V11|               V12|               V13|               V14|               V15|               V16|               V17|                V18|               V19|                V20|                 V21|                V22|               V23|               V24|               V25|               V26|                 V27|                V28|Amount|Class|\n",
            "+----+------------------+-------------------+----------------+------------------+-------------------+-------------------+-------------------+------------------+------------------+-------------------+------------------+------------------+------------------+------------------+------------------+------------------+------------------+-------------------+------------------+-------------------+--------------------+-------------------+------------------+------------------+------------------+------------------+--------------------+-------------------+------+-----+\n",
            "| 0.0|  -1.3598071336738|-0.0727811733098497|2.53634673796914|  1.37815522427443| -0.338320769942518|  0.462387777762292|  0.239598554061257|0.0986979012610507| 0.363786969611213| 0.0907941719789316|-0.551599533260813|-0.617800855762348|-0.991389847235408|-0.311169353699879|  1.46817697209427|-0.470400525259478| 0.207971241929242| 0.0257905801985591| 0.403992960255733|  0.251412098239705|  -0.018306777944153|  0.277837575558899|-0.110473910188767|0.0669280749146731| 0.128539358273528|-0.189114843888824|   0.133558376740387|-0.0210530534538215|149.62|    0|\n",
            "| 0.0|  1.19185711131486|   0.26615071205963|0.16648011335321| 0.448154078460911| 0.0600176492822243|-0.0823608088155687|-0.0788029833323113|0.0851016549148104|-0.255425128109186| -0.166974414004614|  1.61272666105479|  1.06523531137287|  0.48909501589608|-0.143772296441519| 0.635558093258208| 0.463917041022171|-0.114804663102346| -0.183361270123994|-0.145783041325259|-0.0690831352230203|  -0.225775248033138| -0.638671952771851| 0.101288021253234|-0.339846475529127| 0.167170404418143| 0.125894532368176|-0.00898309914322813| 0.0147241691924927|  2.69|    0|\n",
            "| 1.0| -1.35835406159823|  -1.34016307473609|1.77320934263119| 0.379779593034328| -0.503198133318193|   1.80049938079263|  0.791460956450422| 0.247675786588991| -1.51465432260583|  0.207642865216696| 0.624501459424895| 0.066083685268831| 0.717292731410831|-0.165945922763554|  2.34586494901581| -2.89008319444231|  1.10996937869599| -0.121359313195888| -2.26185709530414|  0.524979725224404|   0.247998153469754|  0.771679401917229| 0.909412262347719|-0.689280956490685|-0.327641833735251|-0.139096571514147| -0.0553527940384261|-0.0597518405929204|378.66|    0|\n",
            "| 1.0|-0.966271711572087| -0.185226008082898|1.79299333957872|-0.863291275036453|-0.0103088796030823|   1.24720316752486|   0.23760893977178| 0.377435874652262| -1.38702406270197|-0.0549519224713749|-0.226487263835401| 0.178228225877303| 0.507756869957169| -0.28792374549456|-0.631418117709045|  -1.0596472454325|-0.684092786345479|   1.96577500349538|  -1.2326219700892| -0.208037781160366|  -0.108300452035545|0.00527359678253453|-0.190320518742841| -1.17557533186321| 0.647376034602038|-0.221928844458407|  0.0627228487293033| 0.0614576285006353| 123.5|    0|\n",
            "| 2.0| -1.15823309349523|  0.877736754848451|  1.548717846511| 0.403033933955121| -0.407193377311653| 0.0959214624684256|  0.592940745385545|-0.270532677192282| 0.817739308235294|  0.753074431976354|-0.822842877946363|  0.53819555014995|   1.3458515932154| -1.11966983471731| 0.175121130008994|-0.451449182813529|-0.237033239362776|-0.0381947870352842| 0.803486924960175|  0.408542360392758|-0.00943069713232919|   0.79827849458971|-0.137458079619063| 0.141266983824769|-0.206009587619756| 0.502292224181569|   0.219422229513348|  0.215153147499206| 69.99|    0|\n",
            "+----+------------------+-------------------+----------------+------------------+-------------------+-------------------+-------------------+------------------+------------------+-------------------+------------------+------------------+------------------+------------------+------------------+------------------+------------------+-------------------+------------------+-------------------+--------------------+-------------------+------------------+------------------+------------------+------------------+--------------------+-------------------+------+-----+\n",
            "only showing top 5 rows\n",
            "\n"
          ]
        }
      ]
    },
    {
      "cell_type": "code",
      "source": [
        "df.count()"
      ],
      "metadata": {
        "colab": {
          "base_uri": "https://localhost:8080/"
        },
        "id": "CiQwJ4fpexLH",
        "outputId": "71a86798-7ecd-43ce-f721-d0cae0e5a404"
      },
      "execution_count": null,
      "outputs": [
        {
          "output_type": "execute_result",
          "data": {
            "text/plain": [
              "284807"
            ]
          },
          "metadata": {},
          "execution_count": 7
        }
      ]
    },
    {
      "cell_type": "code",
      "source": [
        "#this is used to convert a dataframe in to view which can be used to write and process sql query\n",
        "df.createOrReplaceTempView(\"cc_df\")"
      ],
      "metadata": {
        "id": "BPo5OaYpezGD"
      },
      "execution_count": null,
      "outputs": []
    },
    {
      "cell_type": "code",
      "source": [
        "# # To get number of nan value for each column\n",
        "# for cur_column in df.columns:\n",
        "#   t = spark_sql.sql(f\"select count(*) as count_null from cc_df where {cur_column} is NULL\").collect()[0][0]\n",
        "#   print(f'{cur_column}    :   {t}')"
      ],
      "metadata": {
        "id": "g6_JwBSIfI1l"
      },
      "execution_count": null,
      "outputs": []
    },
    {
      "cell_type": "code",
      "source": [
        "sns.countplot(x='Class',data=df.toPandas())"
      ],
      "metadata": {
        "colab": {
          "base_uri": "https://localhost:8080/",
          "height": 296
        },
        "id": "52QbC3wwgYFU",
        "outputId": "022686bf-9d8a-4c4d-a403-86f9be4d9812"
      },
      "execution_count": null,
      "outputs": [
        {
          "output_type": "execute_result",
          "data": {
            "text/plain": [
              "<matplotlib.axes._subplots.AxesSubplot at 0x7fb13454dfd0>"
            ]
          },
          "metadata": {},
          "execution_count": 10
        },
        {
          "output_type": "display_data",
          "data": {
            "text/plain": [
              "<Figure size 432x288 with 1 Axes>"
            ],
            "image/png": "[encoded data removed]"
          },
          "metadata": {
            "needs_background": "light"
          }
        }
      ]
    },
    {
      "cell_type": "markdown",
      "source": [
        "data is very highly imbalanced\n",
        "so before we make data balanced we will first remove the outliers from class '0' 😊"
      ],
      "metadata": {
        "id": "p4EXVmTapYhL"
      }
    },
    {
      "cell_type": "code",
      "source": [
        "sns.boxplot(\"V1\",data=df.toPandas())"
      ],
      "metadata": {
        "colab": {
          "base_uri": "https://localhost:8080/",
          "height": 351
        },
        "id": "x5wz60_qCJkv",
        "outputId": "46e5ed50-58de-4a97-a634-f294ae235b25"
      },
      "execution_count": null,
      "outputs": [
        {
          "output_type": "stream",
          "name": "stderr",
          "text": [
            "/usr/local/lib/python3.7/dist-packages/seaborn/_decorators.py:43: FutureWarning: Pass the following variable as a keyword arg: x. From version 0.12, the only valid positional argument will be `data`, and passing other arguments without an explicit keyword will result in an error or misinterpretation.\n",
            "  FutureWarning\n"
          ]
        },
        {
          "output_type": "execute_result",
          "data": {
            "text/plain": [
              "<matplotlib.axes._subplots.AxesSubplot at 0x7fb11db4a8d0>"
            ]
          },
          "metadata": {},
          "execution_count": 11
        },
        {
          "output_type": "display_data",
          "data": {
            "text/plain": [
              "<Figure size 432x288 with 1 Axes>"
            ],
            "image/png": "[encoded data removed]"
          },
          "metadata": {
            "needs_background": "light"
          }
        }
      ]
    },
    {
      "cell_type": "code",
      "source": [
        "limits = df.approxQuantile(\"V1\",[0.25,0.75],0.1)\n",
        "iqr = limits[-1] - limits[0]\n",
        "upper_limit = limits[-1] + (1.5 * iqr)\n",
        "lower_limit = limits[0] - (1.5 * iqr)"
      ],
      "metadata": {
        "id": "kuJsWyTzsFCE"
      },
      "execution_count": null,
      "outputs": []
    },
    {
      "cell_type": "code",
      "source": [
        "features = df.columns\n",
        "features.remove(\"Time\")\n",
        "features.remove(\"Class\")"
      ],
      "metadata": {
        "id": "tWiUoUJ9_36j"
      },
      "execution_count": null,
      "outputs": []
    },
    {
      "cell_type": "code",
      "source": [
        "updated_df = df\n",
        "for feature in features:\n",
        "\n",
        "  limits = df.approxQuantile(feature,[0.25,0.75],0.1)\n",
        "  iqr = limits[-1] - limits[0]\n",
        "  upper_limit = limits[-1] + (1.5 * iqr)\n",
        "  lower_limit = limits[0] - (1.5 * iqr)\n",
        "  updated_df = spark_sql.sql(f\"select * from cc_df where {feature} <= {upper_limit} and {feature} >= {lower_limit} and class=0\")\n",
        "  spark_sql.sql(f\"drop view cc_df\")\n",
        "  updated_df.createOrReplaceTempView(\"cc_df\")\n",
        "  print(f\"{feature} outliers removed\")"
      ],
      "metadata": {
        "id": "8ndCIYakAyRT",
        "colab": {
          "base_uri": "https://localhost:8080/"
        },
        "outputId": "3332b64a-3370-4722-a327-fb519a9fc36e"
      },
      "execution_count": null,
      "outputs": [
        {
          "output_type": "stream",
          "name": "stdout",
          "text": [
            "V1 outliers removed\n",
            "V2 outliers removed\n",
            "V3 outliers removed\n",
            "V4 outliers removed\n",
            "V5 outliers removed\n",
            "V6 outliers removed\n",
            "V7 outliers removed\n",
            "V8 outliers removed\n",
            "V9 outliers removed\n",
            "V10 outliers removed\n",
            "V11 outliers removed\n",
            "V12 outliers removed\n",
            "V13 outliers removed\n",
            "V14 outliers removed\n",
            "V15 outliers removed\n",
            "V16 outliers removed\n",
            "V17 outliers removed\n",
            "V18 outliers removed\n",
            "V19 outliers removed\n",
            "V20 outliers removed\n",
            "V21 outliers removed\n",
            "V22 outliers removed\n",
            "V23 outliers removed\n",
            "V24 outliers removed\n",
            "V25 outliers removed\n",
            "V26 outliers removed\n",
            "V27 outliers removed\n",
            "V28 outliers removed\n",
            "Amount outliers removed\n"
          ]
        }
      ]
    },
    {
      "cell_type": "code",
      "source": [
        "temp = updated_df.union(df.filter(\"Class = 1\")).toPandas()"
      ],
      "metadata": {
        "id": "IiUal4jiJtXj"
      },
      "execution_count": null,
      "outputs": []
    },
    {
      "cell_type": "code",
      "source": [
        "num_0 = len(temp[temp['Class']==0])\n",
        "num_1 = len(temp[temp['Class']==1])\n",
        "print(num_0,num_1)\n",
        "# random undersample\n",
        "undersampled_data = pd.concat([ temp[temp['Class']==0].sample(num_1) , temp[temp['Class']==1] ])\n",
        "print(len(undersampled_data))"
      ],
      "metadata": {
        "colab": {
          "base_uri": "https://localhost:8080/"
        },
        "id": "Kd6UM4_pN4nz",
        "outputId": "ba6777fe-1455-406f-9a0f-07ce5da683f0"
      },
      "execution_count": null,
      "outputs": [
        {
          "output_type": "stream",
          "name": "stdout",
          "text": [
            "106891 492\n",
            "984\n"
          ]
        }
      ]
    },
    {
      "cell_type": "code",
      "source": [
        "sns.countplot(\"Class\",data=undersampled_data)"
      ],
      "metadata": {
        "colab": {
          "base_uri": "https://localhost:8080/",
          "height": 351
        },
        "id": "1WpdqEhjKBI7",
        "outputId": "1da4ef42-607c-4dce-f14e-cc72d1bc6f43"
      },
      "execution_count": null,
      "outputs": [
        {
          "output_type": "stream",
          "name": "stderr",
          "text": [
            "/usr/local/lib/python3.7/dist-packages/seaborn/_decorators.py:43: FutureWarning: Pass the following variable as a keyword arg: x. From version 0.12, the only valid positional argument will be `data`, and passing other arguments without an explicit keyword will result in an error or misinterpretation.\n",
            "  FutureWarning\n"
          ]
        },
        {
          "output_type": "execute_result",
          "data": {
            "text/plain": [
              "<matplotlib.axes._subplots.AxesSubplot at 0x7fb11c493550>"
            ]
          },
          "metadata": {},
          "execution_count": 46
        },
        {
          "output_type": "display_data",
          "data": {
            "text/plain": [
              "<Figure size 432x288 with 1 Axes>"
            ],
            "image/png": "[encoded data removed]"
          },
          "metadata": {
            "needs_background": "light"
          }
        }
      ]
    },
    {
      "cell_type": "code",
      "source": [
        "undersampled_data = spark_sql.createDataFrame(undersampled_data.sample(frac=1))"
      ],
      "metadata": {
        "id": "HBkXY1W5Oikp"
      },
      "execution_count": null,
      "outputs": []
    },
    {
      "cell_type": "code",
      "source": [
        "train_df,test_df = undersampled_data.randomSplit([0.85, 0.15])"
      ],
      "metadata": {
        "id": "4k6iA0MaXD5v"
      },
      "execution_count": null,
      "outputs": []
    },
    {
      "cell_type": "markdown",
      "source": [
        "# Build and Train Model"
      ],
      "metadata": {
        "id": "VkKpjHU1Fq1G"
      }
    },
    {
      "cell_type": "code",
      "source": [
        "from pyspark.ml import Pipeline\n",
        "from pyspark.ml.classification import RandomForestClassifier\n",
        "from pyspark.ml.feature import VectorIndexer, VectorAssembler\n",
        "from pyspark.ml.evaluation import BinaryClassificationEvaluator \n",
        "from pyspark.ml.linalg import DenseVector,Vectors\n",
        "from pyspark.ml.feature import StandardScaler\n",
        "\n",
        "from sklearn.metrics import f1_score, accuracy_score"
      ],
      "metadata": {
        "id": "bGL59t5sJi28"
      },
      "execution_count": null,
      "outputs": []
    },
    {
      "cell_type": "code",
      "source": [
        "stages = []\n",
        "assembler = VectorAssembler(inputCols=features,outputCol=\"features\")\n",
        "scaler = StandardScaler(inputCol=assembler.getOutputCol() ,outputCol=\"ScaledFeatures\")\n",
        "stages += [assembler,scaler]"
      ],
      "metadata": {
        "id": "0_Pd7ru_in-W"
      },
      "execution_count": null,
      "outputs": []
    },
    {
      "cell_type": "code",
      "source": [
        "pipeline = Pipeline().setStages(stages)\n",
        "piplelineModel = pipeline.fit(train_df)\n",
        "\n",
        "train_df = piplelineModel.transform(train_df)\n",
        "\n",
        "test_df = piplelineModel.transform(test_df)"
      ],
      "metadata": {
        "id": "k_r4LJg8Wy7k"
      },
      "execution_count": null,
      "outputs": []
    },
    {
      "cell_type": "code",
      "source": [
        "train_df = train_df.withColumnRenamed(\"Class\",\"label\")\n",
        "test_df = test_df.withColumnRenamed(\"Class\",\"label\")"
      ],
      "metadata": {
        "id": "DxYpLKMckAfs"
      },
      "execution_count": null,
      "outputs": []
    },
    {
      "cell_type": "code",
      "source": [
        "gbt = RandomForestClassifier(featuresCol=\"ScaledFeatures\",maxDepth=9,numTrees=6,minInstancesPerNode=6)\n",
        "model = gbt.fit(train_df)\n",
        "predictions_pd = model.transform(test_df).toPandas()\n",
        "model_f1_score = f1_score(predictions_pd.label,predictions_pd.prediction)\n",
        "model_accuracy_score = accuracy_score(predictions_pd.label,predictions_pd.prediction)\n",
        "print(\" F1 score: \",model_f1_score)\n",
        "print(\" Accuracy: \",model_accuracy_score)"
      ],
      "metadata": {
        "colab": {
          "base_uri": "https://localhost:8080/"
        },
        "id": "iYPObosdaBkz",
        "outputId": "61b83bc8-91b7-4b04-e267-fce228ce4bdc"
      },
      "execution_count": null,
      "outputs": [
        {
          "output_type": "stream",
          "name": "stdout",
          "text": [
            " F1 score:  0.9673202614379085\n",
            " Accuracy:  0.9640287769784173\n"
          ]
        }
      ]
    },
    {
      "cell_type": "code",
      "source": [
        ""
      ],
      "metadata": {
        "id": "bmZPM9Ehav5c"
      },
      "execution_count": null,
      "outputs": []
    }
  ]
}